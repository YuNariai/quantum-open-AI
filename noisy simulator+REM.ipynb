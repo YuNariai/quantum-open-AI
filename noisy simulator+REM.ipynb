{
 "cells": [
  {
   "cell_type": "markdown",
   "id": "803b03b0-9f5a-47da-9ac1-530e733e822b",
   "metadata": {},
   "source": [
    "Single-qubit gate errors consisting of a single qubit depolarizing error followed by a single qubit thermal relaxation error.\n",
    "\n",
    "Two-qubit gate errors consisting of a two-qubit depolarizing error followed by single-qubit thermal relaxation errors on both qubits in the gate.\n",
    "\n",
    "Single-qubit readout errors on the classical bit value obtained from measurements on individual qubits.\n",
    "\n",
    "For the gate errors the error parameter of the thermal relaxation errors is derived using the thermal_relaxation_error function from aer.noise.errors module, along with the individual qubit \n",
    " and \n",
    " parameters, and the gate_time parameter from the device backend properties. The probability of the depolarizing error is then set so that the combined average gate infidelity from the depolarizing error followed by the thermal relaxation is equal to the gate_error value from the backend properties.\n",
    "\n",
    "For the readout errors the probability that the recorded classical bit value will be flipped from the true outcome after a measurement is given by the qubit readout_errors."
   ]
  },
  {
   "cell_type": "code",
   "execution_count": 1,
   "id": "72339e12-fa21-4d4a-9714-af149b095c45",
   "metadata": {},
   "outputs": [],
   "source": [
    "from qiskit import IBMQ, transpile\n",
    "from qiskit import QuantumCircuit\n",
    "from qiskit_aer import AerSimulator\n",
    "from qiskit.tools.visualization import plot_histogram\n",
    "from qiskit import IBMQ\n",
    "\n",
    "import numpy as np\n",
    "\n",
    "\n",
    "# Import from Qiskit Aer noise module\n",
    "from qiskit_aer.noise import (NoiseModel, QuantumError, ReadoutError,\n",
    "    pauli_error, depolarizing_error, thermal_relaxation_error)"
   ]
  },
  {
   "cell_type": "code",
   "execution_count": 2,
   "id": "0160e12a-1611-422d-bf7d-44a80a3cf403",
   "metadata": {},
   "outputs": [
    {
     "name": "stdout",
     "output_type": "stream",
     "text": [
      "NoiseModel:\n",
      "  Basis gates: ['cx', 'id', 'rz', 'sx', 'x']\n",
      "  Instructions with noise: ['cx', 'id', 'sx', 'measure', 'x']\n",
      "  Qubits with noise: [0, 1, 2, 3, 4]\n",
      "  Specific qubit errors: [('id', (0,)), ('id', (1,)), ('id', (2,)), ('id', (3,)), ('id', (4,)), ('sx', (0,)), ('sx', (1,)), ('sx', (2,)), ('sx', (3,)), ('sx', (4,)), ('x', (0,)), ('x', (1,)), ('x', (2,)), ('x', (3,)), ('x', (4,)), ('cx', (3, 4)), ('cx', (4, 3)), ('cx', (3, 1)), ('cx', (1, 3)), ('cx', (1, 2)), ('cx', (2, 1)), ('cx', (0, 1)), ('cx', (1, 0)), ('measure', (0,)), ('measure', (1,)), ('measure', (2,)), ('measure', (3,)), ('measure', (4,))]\n"
     ]
    }
   ],
   "source": [
    "from qiskit.providers.fake_provider import FakeVigo\n",
    "device_backend = FakeVigo()\n",
    "# will use ibm_brisbane as backend\n",
    "\n",
    "properties = device_backend.properties()\n",
    "temp = 0\n",
    "noise_model= NoiseModel.from_backend_properties(\n",
    "        backend_properties=properties,\n",
    "        gate_error=True,\n",
    "        readout_error=True,\n",
    "        thermal_relaxation=True,\n",
    "        temperature=0,\n",
    "        gate_lengths=None,\n",
    "        gate_length_units=\"ns\",\n",
    "        dt=None,\n",
    "    )\n",
    "print(noise_model)"
   ]
  },
  {
   "cell_type": "code",
   "execution_count": 3,
   "id": "1b40c2fc-eaea-4b92-9104-46eedc225dae",
   "metadata": {},
   "outputs": [
    {
     "data": {
      "text/plain": [
       "<qiskit.circuit.instructionset.InstructionSet at 0x7f80181bfbe0>"
      ]
     },
     "execution_count": 3,
     "metadata": {},
     "output_type": "execute_result"
    }
   ],
   "source": [
    "# Construct quantum circuit\n",
    "circ = QuantumCircuit(3, 3)\n",
    "circ.h(0)\n",
    "circ.cx(0, 1)\n",
    "circ.cx(1, 2)\n",
    "circ.measure([0, 1, 2], [0, 1, 2])"
   ]
  },
  {
   "cell_type": "code",
   "execution_count": 4,
   "id": "34ae1d52-83c4-4db9-90dd-ab2b1af8c106",
   "metadata": {},
   "outputs": [
    {
     "data": {
      "image/png": "[encoded data removed]",
      "text/plain": [
       "<Figure size 504x360 with 1 Axes>"
      ]
     },
     "execution_count": 4,
     "metadata": {},
     "output_type": "execute_result"
    }
   ],
   "source": [
    "# Ideal simulator and execution\n",
    "sim_ideal = AerSimulator()\n",
    "result_ideal = sim_ideal.run(circ).result()\n",
    "plot_histogram(result_ideal.get_counts(0))"
   ]
  },
  {
   "cell_type": "code",
   "execution_count": 5,
   "id": "13cd7c04-4bc4-492f-bd34-2e680be97147",
   "metadata": {},
   "outputs": [
    {
     "data": {
      "image/png": "[encoded data removed]",
      "text/plain": [
       "<Figure size 504x360 with 1 Axes>"
      ]
     },
     "execution_count": 5,
     "metadata": {},
     "output_type": "execute_result"
    }
   ],
   "source": [
    "# Create noisy simulator backend\n",
    "sim_noise = AerSimulator(noise_model=noise_model)\n",
    "\n",
    "# Transpile circuit for noisy basis gates\n",
    "circ_tnoise = transpile(circ, sim_noise)\n",
    "\n",
    "# Run and get counts\n",
    "result_bit_flip = sim_noise.run(circ_tnoise).result()\n",
    "counts_bit_flip = result_bit_flip.get_counts(0)\n",
    "\n",
    "# Plot noisy output\n",
    "plot_histogram(counts_bit_flip)"
   ]
  },
  {
   "cell_type": "code",
   "execution_count": null,
   "id": "8f21762b-31b3-42ad-a48b-0cc0b9101acf",
   "metadata": {},
   "outputs": [],
   "source": []
  },
  {
   "cell_type": "code",
   "execution_count": 30,
   "id": "b53906fc-fe2b-429c-a0f7-30a9e96194f1",
   "metadata": {},
   "outputs": [],
   "source": [
    "import qiskit\n",
    "from mitiq import rem\n",
    "from mitiq.rem import generate_tensored_inverse_confusion_matrix\n",
    "from typing import Any, Sequence\n",
    "\n",
    "def ibmq_noisy_executor(circuit, shots: int = 1024):\n",
    "        \"\"\"Returns the expectation value to be mitigated.\n",
    "            Args:\n",
    "            circuit: Circuit to run.\n",
    "            shots: Number of times to execute the circuit to compute the expectation value.\n",
    "        \"\"\"\n",
    "    \n",
    "        # Simulate the circuit with noise\n",
    "    \n",
    "        job = qiskit.execute(\n",
    "            experiments=circuit,\n",
    "            backend=sim_noise,\n",
    "            optimization_level=0,  # Important to preserve folded gates.\n",
    "            shots=shots,\n",
    "        )\n",
    "\n",
    "        # Convert from raw measurement counts to the expectation value\n",
    "        counts = job.result().get_counts()\n",
    "        if counts.get(\"0\") is None:\n",
    "            expectation_value = 0.\n",
    "        else:\n",
    "            expectation_value = counts.get(\"0\") / shots\n",
    "        return expectation_value\n",
    "\n",
    "class AfterErrorMitigation:\n",
    "    def __init__(self, circuit: QuantumCircuit):\n",
    "        self.circuit = circuit\n",
    "        self.qubits: list = circuit.qubits\n",
    "        self.num_qubits = len(self.qubits)\n",
    "        self.simulator = sim_noise\n",
    "        \n",
    "    \n",
    "        \n",
    "    def readout_mitigation_executor(self):\n",
    "        A_list=[]\n",
    "    \n",
    "        for i in self.qubits:\n",
    "            p1 = 0 # P(0|1)\n",
    "            p0 = 0 # P(1|0)\n",
    "            A_i = np.array([[1.0 - p0, p1],\n",
    "                            [p0, 1.0 - p1]])\n",
    "            A_list += [A_i]\n",
    "        \n",
    "        A_pinv = generate_tensored_inverse_confusion_matrix(self.num_qubits, A_list)\n",
    "        rem_executor = rem.mitigate_executor(ibmq_noisy_executor, inverse_confusion_matrix=A_pinv)\n",
    "        return rem_executor\n",
    "    \n",
    "    def ZNE_executor(self):\n",
    "        pass\n",
    "    def combine_executor(self):\n",
    "        pass\n",
    "    \n",
    "    '''\n",
    "    how to combine mutiple mitigation method, for example ZNE+REM:\n",
    "    combined_executor = zne.mitigate_executor(circuit, rem_executor, scale_noise=zne.scaling.folding.fold_global)\n",
    "    combined_result = combined_executor(circuit)\n",
    "    '''\n",
    "        \n",
    "        \n",
    "        \n",
    "    def run(self):\n",
    "        execute = self.readout_mitigation_executor()\n",
    "        return execute(self.circuit).real\n",
    "        "
   ]
  },
  {
   "cell_type": "code",
   "execution_count": 31,
   "id": "0eff255d-5dc7-4629-8637-229b33e92a84",
   "metadata": {},
   "outputs": [
    {
     "ename": "TypeError",
     "evalue": "Result is not of type MeasurementResult.",
     "output_type": "error",
     "traceback": [
      "\u001b[0;31m---------------------------------------------------------------------------\u001b[0m",
      "\u001b[0;31mTypeError\u001b[0m                                 Traceback (most recent call last)",
      "Cell \u001b[0;32mIn[31], line 2\u001b[0m\n\u001b[1;32m      1\u001b[0m AFE \u001b[38;5;241m=\u001b[39m AfterErrorMitigation(circ)\n\u001b[0;32m----> 2\u001b[0m \u001b[43mAFE\u001b[49m\u001b[38;5;241;43m.\u001b[39;49m\u001b[43mrun\u001b[49m\u001b[43m(\u001b[49m\u001b[43m)\u001b[49m\n",
      "Cell \u001b[0;32mIn[30], line 63\u001b[0m, in \u001b[0;36mAfterErrorMitigation.run\u001b[0;34m(self)\u001b[0m\n\u001b[1;32m     61\u001b[0m \u001b[38;5;28;01mdef\u001b[39;00m \u001b[38;5;21mrun\u001b[39m(\u001b[38;5;28mself\u001b[39m):\n\u001b[1;32m     62\u001b[0m     execute \u001b[38;5;241m=\u001b[39m \u001b[38;5;28mself\u001b[39m\u001b[38;5;241m.\u001b[39mreadout_mitigation_executor()\n\u001b[0;32m---> 63\u001b[0m     \u001b[38;5;28;01mreturn\u001b[39;00m \u001b[43mexecute\u001b[49m\u001b[43m(\u001b[49m\u001b[38;5;28;43mself\u001b[39;49m\u001b[38;5;241;43m.\u001b[39;49m\u001b[43mcircuit\u001b[49m\u001b[43m)\u001b[49m\u001b[38;5;241m.\u001b[39mreal\n",
      "File \u001b[0;32m~/.qbraid/environments/mitiq_7rq6q3/pyenv/lib/python3.9/site-packages/mitiq/rem/rem.py:107\u001b[0m, in \u001b[0;36mmitigate_executor.<locals>.new_executor\u001b[0;34m(circuit)\u001b[0m\n\u001b[1;32m    105\u001b[0m \u001b[38;5;129m@wraps\u001b[39m(executor)\n\u001b[1;32m    106\u001b[0m \u001b[38;5;28;01mdef\u001b[39;00m \u001b[38;5;21mnew_executor\u001b[39m(circuit: QPROGRAM) \u001b[38;5;241m-\u001b[39m\u001b[38;5;241m>\u001b[39m MeasurementResult:\n\u001b[0;32m--> 107\u001b[0m     result \u001b[38;5;241m=\u001b[39m cast(MeasurementResult, \u001b[43mexecutor_obj\u001b[49m\u001b[38;5;241;43m.\u001b[39;49m\u001b[43mrun\u001b[49m\u001b[43m(\u001b[49m\u001b[43m[\u001b[49m\u001b[43mcircuit\u001b[49m\u001b[43m]\u001b[49m\u001b[43m)\u001b[49m[\u001b[38;5;241m0\u001b[39m])\n\u001b[1;32m    108\u001b[0m     \u001b[38;5;28;01mreturn\u001b[39;00m result\n",
      "File \u001b[0;32m~/.qbraid/environments/mitiq_7rq6q3/pyenv/lib/python3.9/site-packages/mitiq/executor/executor.py:281\u001b[0m, in \u001b[0;36mExecutor.run\u001b[0;34m(self, circuits, force_run_all, **kwargs)\u001b[0m\n\u001b[1;32m    278\u001b[0m     results_dict \u001b[38;5;241m=\u001b[39m \u001b[38;5;28mdict\u001b[39m(\u001b[38;5;28mzip\u001b[39m(collection\u001b[38;5;241m.\u001b[39mkeys(), results))\n\u001b[1;32m    279\u001b[0m     results \u001b[38;5;241m=\u001b[39m [results_dict[key] \u001b[38;5;28;01mfor\u001b[39;00m key \u001b[38;5;129;01min\u001b[39;00m hashable_circuits]\n\u001b[0;32m--> 281\u001b[0m \u001b[38;5;28;01mreturn\u001b[39;00m \u001b[38;5;28;43mself\u001b[39;49m\u001b[38;5;241;43m.\u001b[39;49m\u001b[43m_post_run\u001b[49m\u001b[43m(\u001b[49m\u001b[43mresults\u001b[49m\u001b[43m)\u001b[49m\n",
      "File \u001b[0;32m~/.qbraid/environments/mitiq_7rq6q3/pyenv/lib/python3.9/site-packages/mitiq/rem/rem.py:93\u001b[0m, in \u001b[0;36mmitigate_executor.<locals>.post_run\u001b[0;34m(self, results)\u001b[0m\n\u001b[1;32m     89\u001b[0m \u001b[38;5;28;01mdef\u001b[39;00m \u001b[38;5;21mpost_run\u001b[39m(\n\u001b[1;32m     90\u001b[0m     \u001b[38;5;28mself\u001b[39m: Executor,\n\u001b[1;32m     91\u001b[0m     results: Sequence[MeasurementResult],\n\u001b[1;32m     92\u001b[0m ) \u001b[38;5;241m-\u001b[39m\u001b[38;5;241m>\u001b[39m Sequence[MeasurementResult]:\n\u001b[0;32m---> 93\u001b[0m     \u001b[38;5;28;01mreturn\u001b[39;00m [\n\u001b[1;32m     94\u001b[0m         mitigate_measurements(res, inverse_confusion_matrix)\n\u001b[1;32m     95\u001b[0m         \u001b[38;5;28;01mfor\u001b[39;00m res \u001b[38;5;129;01min\u001b[39;00m results\n\u001b[1;32m     96\u001b[0m     ]\n",
      "File \u001b[0;32m~/.qbraid/environments/mitiq_7rq6q3/pyenv/lib/python3.9/site-packages/mitiq/rem/rem.py:94\u001b[0m, in \u001b[0;36m<listcomp>\u001b[0;34m(.0)\u001b[0m\n\u001b[1;32m     89\u001b[0m \u001b[38;5;28;01mdef\u001b[39;00m \u001b[38;5;21mpost_run\u001b[39m(\n\u001b[1;32m     90\u001b[0m     \u001b[38;5;28mself\u001b[39m: Executor,\n\u001b[1;32m     91\u001b[0m     results: Sequence[MeasurementResult],\n\u001b[1;32m     92\u001b[0m ) \u001b[38;5;241m-\u001b[39m\u001b[38;5;241m>\u001b[39m Sequence[MeasurementResult]:\n\u001b[1;32m     93\u001b[0m     \u001b[38;5;28;01mreturn\u001b[39;00m [\n\u001b[0;32m---> 94\u001b[0m         \u001b[43mmitigate_measurements\u001b[49m\u001b[43m(\u001b[49m\u001b[43mres\u001b[49m\u001b[43m,\u001b[49m\u001b[43m \u001b[49m\u001b[43minverse_confusion_matrix\u001b[49m\u001b[43m)\u001b[49m\n\u001b[1;32m     95\u001b[0m         \u001b[38;5;28;01mfor\u001b[39;00m res \u001b[38;5;129;01min\u001b[39;00m results\n\u001b[1;32m     96\u001b[0m     ]\n",
      "File \u001b[0;32m~/.qbraid/environments/mitiq_7rq6q3/pyenv/lib/python3.9/site-packages/mitiq/rem/inverse_confusion_matrix.py:191\u001b[0m, in \u001b[0;36mmitigate_measurements\u001b[0;34m(noisy_result, inverse_confusion_matrix)\u001b[0m\n\u001b[1;32m    179\u001b[0m \u001b[38;5;124;03m\"\"\"Applies the inverse confusion matrix against the noisy measurement\u001b[39;00m\n\u001b[1;32m    180\u001b[0m \u001b[38;5;124;03mresult and returns the adjusted measurements.\u001b[39;00m\n\u001b[1;32m    181\u001b[0m \n\u001b[0;32m   (...)\u001b[0m\n\u001b[1;32m    188\u001b[0m \u001b[38;5;124;03m    A mitigated MeasurementResult.\u001b[39;00m\n\u001b[1;32m    189\u001b[0m \u001b[38;5;124;03m\"\"\"\u001b[39;00m\n\u001b[1;32m    190\u001b[0m \u001b[38;5;28;01mif\u001b[39;00m \u001b[38;5;129;01mnot\u001b[39;00m \u001b[38;5;28misinstance\u001b[39m(noisy_result, MeasurementResult):\n\u001b[0;32m--> 191\u001b[0m     \u001b[38;5;28;01mraise\u001b[39;00m \u001b[38;5;167;01mTypeError\u001b[39;00m(\u001b[38;5;124m\"\u001b[39m\u001b[38;5;124mResult is not of type MeasurementResult.\u001b[39m\u001b[38;5;124m\"\u001b[39m)\n\u001b[1;32m    193\u001b[0m num_qubits \u001b[38;5;241m=\u001b[39m noisy_result\u001b[38;5;241m.\u001b[39mnqubits\n\u001b[1;32m    194\u001b[0m required_shape \u001b[38;5;241m=\u001b[39m (\u001b[38;5;241m2\u001b[39m\u001b[38;5;241m*\u001b[39m\u001b[38;5;241m*\u001b[39mnum_qubits, \u001b[38;5;241m2\u001b[39m\u001b[38;5;241m*\u001b[39m\u001b[38;5;241m*\u001b[39mnum_qubits)\n",
      "\u001b[0;31mTypeError\u001b[0m: Result is not of type MeasurementResult."
     ]
    }
   ],
   "source": [
    "# can not run until finish combine_executor\n",
    "AFE = AfterErrorMitigation(circ)\n",
    "AFE.run()"
   ]
  },
  {
   "cell_type": "code",
   "execution_count": 13,
   "id": "33b5710b-0e13-4692-8e56-8b30a9e4d327",
   "metadata": {},
   "outputs": [],
   "source": [
    "A = np.array([[1.0, 0.],[0., 1.0]])\n",
    "#A = np.kron(A, A)\n",
    "A_pinv = generate_tensored_inverse_confusion_matrix(2, [A,A])"
   ]
  },
  {
   "cell_type": "code",
   "execution_count": null,
   "id": "e764d78a-54ab-459d-9501-528d8a95d6f1",
   "metadata": {},
   "outputs": [],
   "source": []
  }
 ],
 "metadata": {
  "kernelspec": {
   "display_name": "Python 3 [Mitiq]",
   "language": "python",
   "name": "python3_mitiq_7rq6q3"
  },
  "language_info": {
   "codemirror_mode": {
    "name": "ipython",
    "version": 3
   },
   "file_extension": ".py",
   "mimetype": "text/x-python",
   "name": "python",
   "nbconvert_exporter": "python",
   "pygments_lexer": "ipython3",
   "version": "3.9.12"
  }
 },
 "nbformat": 4,
 "nbformat_minor": 5
}
