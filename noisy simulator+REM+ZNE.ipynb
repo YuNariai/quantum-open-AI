{
 "cells": [
  {
   "cell_type": "markdown",
   "id": "803b03b0-9f5a-47da-9ac1-530e733e822b",
   "metadata": {},
   "source": [
    "Single-qubit gate errors consisting of a single qubit depolarizing error followed by a single qubit thermal relaxation error.\n",
    "\n",
    "Two-qubit gate errors consisting of a two-qubit depolarizing error followed by single-qubit thermal relaxation errors on both qubits in the gate.\n",
    "\n",
    "Single-qubit readout errors on the classical bit value obtained from measurements on individual qubits.\n",
    "\n",
    "For the gate errors the error parameter of the thermal relaxation errors is derived using the thermal_relaxation_error function from aer.noise.errors module, along with the individual qubit \n",
    " and \n",
    " parameters, and the gate_time parameter from the device backend properties. The probability of the depolarizing error is then set so that the combined average gate infidelity from the depolarizing error followed by the thermal relaxation is equal to the gate_error value from the backend properties.\n",
    "\n",
    "For the readout errors the probability that the recorded classical bit value will be flipped from the true outcome after a measurement is given by the qubit readout_errors."
   ]
  },
  {
   "cell_type": "code",
   "execution_count": 1,
   "id": "72339e12-fa21-4d4a-9714-af149b095c45",
   "metadata": {},
   "outputs": [],
   "source": [
    "from qiskit import IBMQ, transpile\n",
    "from qiskit import QuantumCircuit\n",
    "from qiskit_aer import AerSimulator\n",
    "from qiskit.tools.visualization import plot_histogram\n",
    "from qiskit import IBMQ\n",
    "\n",
    "import numpy as np\n",
    "\n",
    "\n",
    "# Import from Qiskit Aer noise module\n",
    "from qiskit_aer.noise import (NoiseModel, QuantumError, ReadoutError,\n",
    "    pauli_error, depolarizing_error, thermal_relaxation_error)"
   ]
  },
  {
   "cell_type": "code",
   "execution_count": 2,
   "id": "0160e12a-1611-422d-bf7d-44a80a3cf403",
   "metadata": {},
   "outputs": [
    {
     "name": "stdout",
     "output_type": "stream",
     "text": [
      "NoiseModel:\n",
      "  Basis gates: ['cx', 'id', 'rz', 'sx', 'x']\n",
      "  Instructions with noise: ['x', 'measure', 'cx', 'id', 'sx']\n",
      "  Qubits with noise: [0, 1, 2, 3, 4]\n",
      "  Specific qubit errors: [('id', (0,)), ('id', (1,)), ('id', (2,)), ('id', (3,)), ('id', (4,)), ('sx', (0,)), ('sx', (1,)), ('sx', (2,)), ('sx', (3,)), ('sx', (4,)), ('x', (0,)), ('x', (1,)), ('x', (2,)), ('x', (3,)), ('x', (4,)), ('cx', (3, 4)), ('cx', (4, 3)), ('cx', (3, 1)), ('cx', (1, 3)), ('cx', (1, 2)), ('cx', (2, 1)), ('cx', (0, 1)), ('cx', (1, 0)), ('measure', (0,)), ('measure', (1,)), ('measure', (2,)), ('measure', (3,)), ('measure', (4,))]\n"
     ]
    }
   ],
   "source": [
    "from qiskit.providers.fake_provider import FakeVigo\n",
    "device_backend = FakeVigo()\n",
    "# will use ibm_brisbane as backend\n",
    "\n",
    "properties = device_backend.properties()\n",
    "temp = 0\n",
    "noise_model= NoiseModel.from_backend_properties(\n",
    "        backend_properties=properties,\n",
    "        gate_error=True,\n",
    "        readout_error=True,\n",
    "        thermal_relaxation=True,\n",
    "        temperature=0,\n",
    "        gate_lengths=None,\n",
    "        gate_length_units=\"ns\",\n",
    "        dt=None,\n",
    "    )\n",
    "print(noise_model)"
   ]
  },
  {
   "cell_type": "code",
   "execution_count": 3,
   "id": "1b40c2fc-eaea-4b92-9104-46eedc225dae",
   "metadata": {},
   "outputs": [
    {
     "data": {
      "text/plain": [
       "<qiskit.circuit.instructionset.InstructionSet at 0x7f8b3c4d82b0>"
      ]
     },
     "execution_count": 3,
     "metadata": {},
     "output_type": "execute_result"
    }
   ],
   "source": [
    "# Construct quantum circuit\n",
    "circ = QuantumCircuit(3, 3)\n",
    "circ.h(0)\n",
    "circ.cx(0, 1)\n",
    "circ.cx(1, 2)\n",
    "circ.measure([0, 1, 2], [0, 1, 2])"
   ]
  },
  {
   "cell_type": "code",
   "execution_count": 4,
   "id": "34ae1d52-83c4-4db9-90dd-ab2b1af8c106",
   "metadata": {},
   "outputs": [
    {
     "data": {
      "image/png": "[encoded data removed]",
      "text/plain": [
       "<Figure size 504x360 with 1 Axes>"
      ]
     },
     "execution_count": 4,
     "metadata": {},
     "output_type": "execute_result"
    }
   ],
   "source": [
    "# Ideal simulator and execution\n",
    "sim_ideal = AerSimulator()\n",
    "result_ideal = sim_ideal.run(circ).result()\n",
    "plot_histogram(result_ideal.get_counts(0))"
   ]
  },
  {
   "cell_type": "code",
   "execution_count": 5,
   "id": "13cd7c04-4bc4-492f-bd34-2e680be97147",
   "metadata": {},
   "outputs": [
    {
     "data": {
      "image/png": "[encoded data removed]",
      "text/plain": [
       "<Figure size 504x360 with 1 Axes>"
      ]
     },
     "execution_count": 5,
     "metadata": {},
     "output_type": "execute_result"
    }
   ],
   "source": [
    "# Create noisy simulator backend\n",
    "sim_noise = AerSimulator(noise_model=noise_model)\n",
    "\n",
    "# Transpile circuit for noisy basis gates\n",
    "circ_tnoise = transpile(circ, sim_noise)\n",
    "\n",
    "# Run and get counts\n",
    "result_bit_flip = sim_noise.run(circ_tnoise).result()\n",
    "counts_bit_flip = result_bit_flip.get_counts(0)\n",
    "\n",
    "# Plot noisy output\n",
    "plot_histogram(counts_bit_flip)"
   ]
  },
  {
   "cell_type": "code",
   "execution_count": null,
   "id": "8f21762b-31b3-42ad-a48b-0cc0b9101acf",
   "metadata": {},
   "outputs": [],
   "source": []
  },
  {
   "cell_type": "code",
   "execution_count": 33,
   "id": "b53906fc-fe2b-429c-a0f7-30a9e96194f1",
   "metadata": {},
   "outputs": [],
   "source": [
    "import qiskit\n",
    "from mitiq import rem\n",
    "from mitiq import zne\n",
    "from mitiq.rem import generate_tensored_inverse_confusion_matrix\n",
    "from typing import Any, Sequence\n",
    "from qiskit.result import LocalReadoutMitigator\n",
    "\n",
    "\n",
    "class AfterErrorMitigation:\n",
    "    def __init__(self, circuit: QuantumCircuit):\n",
    "        self.circuit = circuit\n",
    "        self.qubits: list = circuit.qubits\n",
    "        self.num_qubits = len(self.qubits)\n",
    "        self.simulator = sim_noise\n",
    "        \n",
    "    def noisy_executor_after_rem(self, circuit, shots: int = 1024):\n",
    "        \"\"\"Returns the expectation value to be mitigated.\n",
    "            Args:\n",
    "            circuit: Circuit to run.\n",
    "            shots: Number of times to execute the circuit to compute the expectation value.\n",
    "        \"\"\"\n",
    "    \n",
    "        # Simulate the circuit with noise\n",
    "    \n",
    "        job = qiskit.execute(\n",
    "            experiments=circuit,\n",
    "            backend=sim_noise,\n",
    "            optimization_level=0,  # Important to preserve folded gates.\n",
    "            shots=shots,\n",
    "        )\n",
    "        \n",
    "        # build local readout error mitigator\n",
    "        A_list=[]\n",
    "        for i in self.qubits:\n",
    "            p1 = 0 # list_of_readouterror[i] # P(0|1)\n",
    "            p0 = 0 # P(1|0)\n",
    "            A_i = np.array([[1.0 - p0, p1],\n",
    "                            [p0, 1.0 - p1]])\n",
    "            A_list += [A_i]\n",
    "        mitigator = LocalReadoutMitigator(A_list)\n",
    "        \n",
    "        # Convert from raw measurement counts to the expectation value\n",
    "        counts = job.result().get_counts()  \n",
    "        mitigated_quasi_probs = mitigator.quasi_probabilities(counts)\n",
    "        \n",
    "        # the probability of state 001, the ideal value is 0\n",
    "        prob_001 = mitigated_quasi_probs.get(1)\n",
    "        return prob_001\n",
    "    '''    \n",
    "    def readout_mitigation_executor(self):\n",
    "        A_list=[]\n",
    "    \n",
    "        for i in self.qubits:\n",
    "            p1 = 0 # list_of_readouterror[i] # P(0|1)\n",
    "            p0 = 0 # P(1|0)\n",
    "            A_i = np.array([[1.0 - p0, p1],\n",
    "                            [p0, 1.0 - p1]])\n",
    "            A_list += [A_i]\n",
    "        \n",
    "        A_pinv = generate_tensored_inverse_confusion_matrix(self.num_qubits, A_list)\n",
    "        rem_executor = rem.execute_with_rem(self.circuit, ibmq_noisy_executor, inverse_confusion_matrix=A_pinv)\n",
    "        return rem_executor\n",
    "    '''\n",
    "    def combine_ZNE(self):\n",
    "        linear_factory = zne.inference.LinearFactory(scale_factors=[1.0, 3.0, 5.0])\n",
    "        mitigated = zne.execute_with_zne(self.circuit, self.noisy_executor_after_rem, factory=linear_factory)\n",
    "        return mitigated\n",
    "    \n",
    "    \n",
    "    '''\n",
    "    how to combine mutiple mitigation method, for example ZNE+REM:\n",
    "    combined_executor = zne.mitigate_executor(circuit, rem_executor, scale_noise=zne.scaling.folding.fold_global)\n",
    "    combined_result = combined_executor(circuit)\n",
    "    '''\n",
    "        \n",
    "        \n",
    "        \n",
    "    def run(self, zne:bool = True):\n",
    "        \"\"\"returns the mitigated value after REM, with or without ZNE\n",
    "        \n",
    "        \"\"\"\n",
    "        if zne:\n",
    "            return self.combine_ZNE()\n",
    "        else:\n",
    "            return self.noisy_executor_after_rem()\n",
    "        "
   ]
  },
  {
   "cell_type": "code",
   "execution_count": 34,
   "id": "0eff255d-5dc7-4629-8637-229b33e92a84",
   "metadata": {},
   "outputs": [
    {
     "data": {
      "text/plain": [
       "0.032877604166666664"
      ]
     },
     "execution_count": 34,
     "metadata": {},
     "output_type": "execute_result"
    }
   ],
   "source": [
    "# return the probability to get state 001\n",
    "# which the ideal probability is 0\n",
    "AFE = AfterErrorMitigation(circ)\n",
    "AFE.run()"
   ]
  },
  {
   "cell_type": "code",
   "execution_count": null,
   "id": "e764d78a-54ab-459d-9501-528d8a95d6f1",
   "metadata": {},
   "outputs": [],
   "source": []
  }
 ],
 "metadata": {
  "kernelspec": {
   "display_name": "Python 3 [Mitiq]",
   "language": "python",
   "name": "python3_mitiq_7rq6q3"
  },
  "language_info": {
   "codemirror_mode": {
    "name": "ipython",
    "version": 3
   },
   "file_extension": ".py",
   "mimetype": "text/x-python",
   "name": "python",
   "nbconvert_exporter": "python",
   "pygments_lexer": "ipython3",
   "version": "3.9.12"
  }
 },
 "nbformat": 4,
 "nbformat_minor": 5
}
