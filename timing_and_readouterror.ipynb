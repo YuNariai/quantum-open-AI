{
 "cells": [
  {
   "cell_type": "code",
   "execution_count": 1,
   "id": "1303f6c4-f839-46b6-b695-5f81a658d704",
   "metadata": {
    "tags": []
   },
   "outputs": [
    {
     "name": "stderr",
     "output_type": "stream",
     "text": [
      "/tmp/ipykernel_80/2004354736.py:5: DeprecationWarning: The qiskit.IBMQ entrypoint and the qiskit-ibmq-provider package (accessible from 'qiskit.providers.ibmq`) are deprecated and will be removed in a future release. Instead you should use the qiskit-ibm-provider package which is accessible from 'qiskit_ibm_provider'. You can install it with 'pip install qiskit_ibm_provider'. Just replace 'qiskit.IBMQ' with 'qiskit_ibm_provider.IBMProvider'\n",
      "  IBMQ.load_account()\n"
     ]
    }
   ],
   "source": [
    "from qiskit import IBMQ\n",
    "from qiskit.providers.ibmq import least_busy\n",
    "\n",
    "\n",
    "IBMQ.load_account()\n",
    "from qiskit import QuantumCircuit, execute, Aer, IBMQ\n",
    "from qiskit.compiler import transpile, assemble\n",
    "from qiskit.tools.jupyter import *\n",
    "from qiskit.visualization import *\n",
    "from ibm_quantum_widgets import *\n",
    "\n",
    "provider = IBMQ.get_provider(hub='ibm-q')\n",
    "\n",
    "\n",
    "# Invoke a primitive. For more details see https://qiskit.org/documentation/partners/qiskit_ibm_runtime/tutorials.html\n",
    "# result = Sampler(\"ibmq_qasm_simulator\").run(circuits).result()"
   ]
  },
  {
   "attachments": {
    "fcb97d6a-1f13-488d-8f5c-9efcee2d5643.png": {
     "image/png": "[encoded data removed]"
    }
   },
   "cell_type": "markdown",
   "id": "be040a09-1dc3-4eed-bc7f-3f5f0dd37713",
   "metadata": {},
   "source": [
    "In this Jupyter Notebook, we will focus on determining the time required for each gate to execute its operation. Additionally, we will measure the readout error. To extract these informations, we will use the class BackendProperties (https://qiskit.org/documentation/stubs/qiskit.providers.models.BackendProperties.html).\n",
    "\n",
    "Let's begin with timing. It's crucial to distinguish between two types of gates: one-qubit gates and two-qubit gates. Specifically, according to the Solovay-Kitaev theorem, we understand that using a specific set of one-qubit gates along with the CNOT gate, it is feasible to execute all potential operations within a certain margin of error. Due to this reason, IBM quantum computers have a designated set of basis gates. We will calculate the timing solely for this specific basis set. Concerning the CNOT operation, timing is computed only for qubits capable of communicating with each other. As we are examining a computer with 7 qubits, the qubit pairs under examination are (0, 1), (1, 2), (1, 3), (3, 5), (4, 5), and (5, 6). We will calculate the average timing for these pairs. For single-qubit gates, we will apply them to each qubit individually and determine the average timing across all qubits.\n",
    "\n",
    "![image.png](attachment:fcb97d6a-1f13-488d-8f5c-9efcee2d5643.png)"
   ]
  },
  {
   "cell_type": "code",
   "execution_count": 35,
   "id": "2e558088-c64d-49e1-b8c5-40368472f328",
   "metadata": {
    "tags": []
   },
   "outputs": [],
   "source": [
    "#return timing of CNOT gate\n",
    "def time_cx(backend_properties, gate):\n",
    "    gate_time=[]\n",
    "    for i in range(6):\n",
    "        if i==2:\n",
    "            time=backend_properties.gate_length(gate,[1,3])\n",
    "            gate_time.append(time)\n",
    "            #print(time)\n",
    "        elif i==3:\n",
    "            time=backend_properties.gate_length(gate,[3,5])\n",
    "            gate_time.append(time)\n",
    "            #print(time)\n",
    "        else:\n",
    "            time=backend_properties.gate_length(gate,[i,i+1])\n",
    "            gate_time.append(time)\n",
    "            #print(time)\n",
    "       \n",
    "    return gate_time\n",
    "\n",
    "#return timing of single qubit gate    \n",
    "def time_single(backend_properties, gate):\n",
    "    gate_time=[]\n",
    "    for i in range(7):\n",
    "        time=backend_properties.gate_length(gate,i)\n",
    "        gate_time.append(time)\n",
    "    return gate_time\n",
    "\n",
    "#calculate the average\n",
    "def average(values):\n",
    "    somma=0\n",
    "    for val in values:\n",
    "        somma=somma+val\n",
    "    mean_value=somma/len(values)\n",
    "    return mean_value"
   ]
  },
  {
   "cell_type": "code",
   "execution_count": 7,
   "id": "bc9f0753-9447-4116-9a67-f046c8e50625",
   "metadata": {
    "tags": []
   },
   "outputs": [
    {
     "name": "stdout",
     "output_type": "stream",
     "text": [
      "The backend we are using is ibm_nairobi\n",
      "The basis gates are ['id', 'rz', 'sx', 'x', 'cx', 'reset']\n"
     ]
    }
   ],
   "source": [
    "backend = least_busy(provider.backends(simulator=False, n_qubits=7))  # select the least busy backend\n",
    "\n",
    "# backend's name\n",
    "backend_name = backend.name()\n",
    "\n",
    "# backend's properties\n",
    "backend_properties = backend.properties()\n",
    "gate=backend.configuration().basis_gates # to know what are the basis gates of the backend\n",
    "\n",
    "print(\"The backend we are using is\", backend_name)\n",
    "print(\"The basis gates are\", gate)\n",
    "\n"
   ]
  },
  {
   "cell_type": "code",
   "execution_count": 36,
   "id": "cdf643a4-1188-4d56-bbfe-6c9515b73a88",
   "metadata": {
    "tags": []
   },
   "outputs": [
    {
     "name": "stdout",
     "output_type": "stream",
     "text": [
      "The average time for the gate id is 3.5555555555555554e-08\n",
      "The average time for the gate rz is 0.0\n",
      "The average time for the gate sx is 3.5555555555555554e-08\n",
      "The average time for the gate x is 3.5555555555555554e-08\n",
      "The average time for the gate cx is 3.1288888888888885e-07\n",
      "The average time for the gate reset is 5.5964444444444435e-06\n"
     ]
    }
   ],
   "source": [
    "gates_time=[]\n",
    "for i in gate:\n",
    "    if i!= 'cx':\n",
    "        gate_time=time_single(backend_properties, i)\n",
    "        average_gate=average(gate_time)\n",
    "        gates_time.append(average_gate)\n",
    "        print(\"The average time for the gate\",i, \"is\", average_gate)\n",
    "    else:\n",
    "        gate_time=time_cx(backend_properties, 'cx')\n",
    "        average_gate=average(gate_time)\n",
    "        gates_time.append(average_gate)\n",
    "        print(\"The average time for the gate\",i, \"is\", average_gate)\n",
    "        "
   ]
  },
  {
   "cell_type": "markdown",
   "id": "3015d6fb-c2ae-4b59-80c7-641157996973",
   "metadata": {
    "tags": []
   },
   "source": [
    "Notice we are using the least busy quantum computer but we don't lose generality, because all the 7 qubits computers have the same topological scheme and the same basis gate.\n",
    "\n",
    "Now we can move on to analyze the readout error, which is crucial if we aim to construct a realistic simulator. Without knowledge of this value, we cannot implement complete error correction. \n",
    "\n",
    "The readout error is the mistake that occurs when we measure a qubit. Simply put, it can happen that our qubit's state is 0 (1), so upon measurement, we expect to find 0 (1), but due to measurement-induced errors, we find 1 (0) instead. This implies that there are two probabilities of readout error: 1) the probability of measuring 1 when the actual value is 0, and 2) the probability of measuring 0 when the value is 1. Typically, in real quantum computers, there is an effort to balance these two probability values.\n",
    "\n",
    "At each qubit, one or two error probabilities will be associated. It's possible to obtain these values graphically by visiting the IBM page displaying various quantum computers, clicking on the relevant resource, and hovering the mouse over the various qubits. In this notebook, the choice was made to obtain these values using code, ensuring no loss of generality in utilizing the least busy quantum computer."
   ]
  },
  {
   "cell_type": "code",
   "execution_count": 37,
   "id": "2edc6f6b-10ee-442c-8d1e-5ef9d7df7e2d",
   "metadata": {},
   "outputs": [
    {
     "name": "stdout",
     "output_type": "stream",
     "text": [
      "The read out error for the qubit 0 is 0.030100000000000016\n",
      "The read out error for the qubit 1 is 0.02410000000000001\n",
      "The read out error for the qubit 2 is 0.029299999999999993\n",
      "The read out error for the qubit 3 is 0.05230000000000001\n",
      "The read out error for the qubit 4 is 0.0232\n",
      "The read out error for the qubit 5 is 0.05230000000000001\n",
      "The read out error for the qubit 6 is 0.017100000000000004\n"
     ]
    }
   ],
   "source": [
    "qubit_error=[]\n",
    "for i in range (7):\n",
    "    read_out_error=backend_properties.readout_error(i)\n",
    "    qubit_error.append(read_out_error)\n",
    "    print(\"The read out error for the qubit\", i, \"is\", read_out_error)"
   ]
  },
  {
   "cell_type": "code",
   "execution_count": null,
   "id": "6b240121-e489-46e0-a59c-83e9e3a68152",
   "metadata": {},
   "outputs": [],
   "source": []
  }
 ],
 "metadata": {
  "kernelspec": {
   "display_name": "Python 3 (ipykernel)",
   "language": "python",
   "name": "python3"
  },
  "language_info": {
   "codemirror_mode": {
    "name": "ipython",
    "version": 3
   },
   "file_extension": ".py",
   "mimetype": "text/x-python",
   "name": "python",
   "nbconvert_exporter": "python",
   "pygments_lexer": "ipython3",
   "version": "3.10.8"
  },
  "widgets": {
   "application/vnd.jupyter.widget-state+json": {
    "state": {
     "00c31e56abcf47229a65c9086e6f9bfa": {
      "model_module": "@jupyter-widgets/controls",
      "model_module_version": "2.0.0",
      "model_name": "HTMLModel",
      "state": {
       "layout": "IPY_MODEL_e0173a9d89c44b8f8e987ed5541707b6",
       "style": "IPY_MODEL_7faeaeea4ea8464fb96bbac2c54f2a21",
       "value": "<h5>Queue</h5>"
      }
     },
     "122f1e67c1e94015b60ac4fdd20bd5c0": {
      "model_module": "@jupyter-widgets/controls",
      "model_module_version": "2.0.0",
      "model_name": "HTMLModel",
      "state": {
       "layout": "IPY_MODEL_3012b408265540ce91c4855ac0f5c15f",
       "style": "IPY_MODEL_c0e4ff02a6f04232955317c9932fc6c8",
       "value": "<h5>Message</h5>"
      }
     },
     "22e47e9502714a0dac6c81d47209f86a": {
      "model_module": "@jupyter-widgets/controls",
      "model_module_version": "2.0.0",
      "model_name": "HTMLModel",
      "state": {
       "layout": "IPY_MODEL_9b34162bfc5a43b3baf25bcd2c551046",
       "style": "IPY_MODEL_9bb6c90126a748e2a40b69a30d72ad36",
       "value": "<h5>Job ID</h5>"
      }
     },
     "2c760d0c09c34343bb6e5f7421fcab45": {
      "model_module": "@jupyter-widgets/controls",
      "model_module_version": "2.0.0",
      "model_name": "GridBoxModel",
      "state": {
       "children": [
        "IPY_MODEL_b8c161c8f113496ba2f5ccb3894c6cb3"
       ],
       "layout": "IPY_MODEL_6cbb4e6a0bc14288834a95b23ae45624"
      }
     },
     "3012b408265540ce91c4855ac0f5c15f": {
      "model_module": "@jupyter-widgets/base",
      "model_module_version": "2.0.0",
      "model_name": "LayoutModel",
      "state": {}
     },
     "63892c0a7f904dd6a9f1c9a68c37dd92": {
      "model_module": "@jupyter-widgets/controls",
      "model_module_version": "2.0.0",
      "model_name": "ButtonStyleModel",
      "state": {
       "font_family": null,
       "font_size": null,
       "font_style": null,
       "font_variant": null,
       "font_weight": null,
       "text_color": null,
       "text_decoration": null
      }
     },
     "6bfce1d3ac404618b0c629d1bebfb5bd": {
      "model_module": "@jupyter-widgets/base",
      "model_module_version": "2.0.0",
      "model_name": "LayoutModel",
      "state": {
       "width": "145px"
      }
     },
     "6cbb4e6a0bc14288834a95b23ae45624": {
      "model_module": "@jupyter-widgets/base",
      "model_module_version": "2.0.0",
      "model_name": "LayoutModel",
      "state": {
       "grid_template_areas": "\n                                       \". . . . right \"\n                                        ",
       "grid_template_columns": "20% 20% 20% 20% 20%",
       "width": "100%"
      }
     },
     "6d81752e4d5b4de89493a111e39c558c": {
      "model_module": "@jupyter-widgets/controls",
      "model_module_version": "2.0.0",
      "model_name": "HTMLStyleModel",
      "state": {
       "description_width": "",
       "font_size": null,
       "text_color": null
      }
     },
     "7faeaeea4ea8464fb96bbac2c54f2a21": {
      "model_module": "@jupyter-widgets/controls",
      "model_module_version": "2.0.0",
      "model_name": "HTMLStyleModel",
      "state": {
       "description_width": "",
       "font_size": null,
       "text_color": null
      }
     },
     "874948810bab4fafad14074f863501dd": {
      "model_module": "@jupyter-widgets/base",
      "model_module_version": "2.0.0",
      "model_name": "LayoutModel",
      "state": {
       "grid_area": "right",
       "padding": "0px 0px 0px 0px",
       "width": "70px"
      }
     },
     "8f906736dd5749a7806de24dbec5f4c6": {
      "model_module": "@jupyter-widgets/base",
      "model_module_version": "2.0.0",
      "model_name": "LayoutModel",
      "state": {
       "margin": "0px 0px 0px 37px",
       "width": "600px"
      }
     },
     "9b34162bfc5a43b3baf25bcd2c551046": {
      "model_module": "@jupyter-widgets/base",
      "model_module_version": "2.0.0",
      "model_name": "LayoutModel",
      "state": {
       "width": "190px"
      }
     },
     "9bb6c90126a748e2a40b69a30d72ad36": {
      "model_module": "@jupyter-widgets/controls",
      "model_module_version": "2.0.0",
      "model_name": "HTMLStyleModel",
      "state": {
       "description_width": "",
       "font_size": null,
       "text_color": null
      }
     },
     "9d8dc024df2e40ab9123b726a01bc8c5": {
      "model_module": "@jupyter-widgets/controls",
      "model_module_version": "2.0.0",
      "model_name": "HTMLModel",
      "state": {
       "layout": "IPY_MODEL_d51475db681e44b797c1023405fe5096",
       "style": "IPY_MODEL_daff0f2d11e3463dba794fe836aa0eff",
       "value": "<p style='font-family: IBM Plex Sans, Arial, Helvetica, sans-serif; font-size: 20px; font-weight: medium;'>Circuit Properties</p>"
      }
     },
     "b5651a6f257d4663bcb07d82a153c495": {
      "model_module": "@jupyter-widgets/controls",
      "model_module_version": "2.0.0",
      "model_name": "HTMLModel",
      "state": {
       "layout": "IPY_MODEL_bd13ffbe1642430cab3a85dcb55ed760",
       "style": "IPY_MODEL_e7fd93539057431aa0ed9df141377a69",
       "value": "<h5>Status</h5>"
      }
     },
     "b8c161c8f113496ba2f5ccb3894c6cb3": {
      "model_module": "@jupyter-widgets/controls",
      "model_module_version": "2.0.0",
      "model_name": "ButtonModel",
      "state": {
       "button_style": "primary",
       "description": "Clear",
       "layout": "IPY_MODEL_874948810bab4fafad14074f863501dd",
       "style": "IPY_MODEL_63892c0a7f904dd6a9f1c9a68c37dd92",
       "tooltip": null
      }
     },
     "b925d6f6ef3c481fa844e255ab139357": {
      "model_module": "@jupyter-widgets/controls",
      "model_module_version": "2.0.0",
      "model_name": "HBoxModel",
      "state": {
       "children": [
        "IPY_MODEL_22e47e9502714a0dac6c81d47209f86a",
        "IPY_MODEL_d46de2ba1ffc420bb048668648f48709",
        "IPY_MODEL_b5651a6f257d4663bcb07d82a153c495",
        "IPY_MODEL_00c31e56abcf47229a65c9086e6f9bfa",
        "IPY_MODEL_122f1e67c1e94015b60ac4fdd20bd5c0"
       ],
       "layout": "IPY_MODEL_8f906736dd5749a7806de24dbec5f4c6"
      }
     },
     "bd13ffbe1642430cab3a85dcb55ed760": {
      "model_module": "@jupyter-widgets/base",
      "model_module_version": "2.0.0",
      "model_name": "LayoutModel",
      "state": {
       "width": "95px"
      }
     },
     "c0e4ff02a6f04232955317c9932fc6c8": {
      "model_module": "@jupyter-widgets/controls",
      "model_module_version": "2.0.0",
      "model_name": "HTMLStyleModel",
      "state": {
       "description_width": "",
       "font_size": null,
       "text_color": null
      }
     },
     "d46de2ba1ffc420bb048668648f48709": {
      "model_module": "@jupyter-widgets/controls",
      "model_module_version": "2.0.0",
      "model_name": "HTMLModel",
      "state": {
       "layout": "IPY_MODEL_6bfce1d3ac404618b0c629d1bebfb5bd",
       "style": "IPY_MODEL_6d81752e4d5b4de89493a111e39c558c",
       "value": "<h5>Backend</h5>"
      }
     },
     "d51475db681e44b797c1023405fe5096": {
      "model_module": "@jupyter-widgets/base",
      "model_module_version": "2.0.0",
      "model_name": "LayoutModel",
      "state": {
       "margin": "0px 0px 10px 0px"
      }
     },
     "daff0f2d11e3463dba794fe836aa0eff": {
      "model_module": "@jupyter-widgets/controls",
      "model_module_version": "2.0.0",
      "model_name": "HTMLStyleModel",
      "state": {
       "description_width": "",
       "font_size": null,
       "text_color": null
      }
     },
     "e0173a9d89c44b8f8e987ed5541707b6": {
      "model_module": "@jupyter-widgets/base",
      "model_module_version": "2.0.0",
      "model_name": "LayoutModel",
      "state": {
       "width": "70px"
      }
     },
     "e7fd93539057431aa0ed9df141377a69": {
      "model_module": "@jupyter-widgets/controls",
      "model_module_version": "2.0.0",
      "model_name": "HTMLStyleModel",
      "state": {
       "description_width": "",
       "font_size": null,
       "text_color": null
      }
     }
    },
    "version_major": 2,
    "version_minor": 0
   }
  }
 },
 "nbformat": 4,
 "nbformat_minor": 5
}
